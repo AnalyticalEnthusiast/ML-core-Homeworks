{
  "cells": [
    {
      "cell_type": "markdown",
      "id": "92df37be",
      "metadata": {
        "id": "92df37be"
      },
      "source": [
        "# 🏠 Домашнее задание: Ансамблевые модели\n",
        "**Датасет:** California Housing (из `sklearn.datasets`)\n",
        "\n",
        "Всего 18 заданий:\n",
        "- 10 заданий — только код\n",
        "- 2 задания — развернутый ответ\n",
        "- 3 задания — код + развернутый ответ\n",
        "- 2 задания повышенной сложности на бонусный балл — Optuna\n",
        "\n",
        "Обратите внимание:\n",
        "  - Все модели должны использовать random_state=42 при инициализации.\n",
        "  - Все метрики должны рассчитываться на train и test, если не указано иное."
      ]
    },
    {
      "cell_type": "markdown",
      "id": "52cf29fc",
      "metadata": {
        "id": "52cf29fc"
      },
      "source": [
        "## Задание 1\n",
        "**[код 0.5]** Загрузите датасет California Housing и выполните разбиение на `X_train`, `X_test`, `y_train`, `y_test`, оставив 20% данных на тест."
      ]
    },
    {
      "cell_type": "code",
      "execution_count": 2,
      "id": "a2fd1233",
      "metadata": {
        "id": "a2fd1233"
      },
      "outputs": [],
      "source": [
        "from sklearn.datasets import fetch_california_housing\n",
        "from sklearn.model_selection import train_test_split\n",
        "\n",
        "data = fetch_california_housing()\n",
        "X = data.data\n",
        "y = data.target\n",
        "\n",
        "X_train, X_test, y_train, y_test = train_test_split(\n",
        "    X, y,\n",
        "    test_size=0.2,\n",
        "    random_state=42\n",
        ")"
      ]
    },
    {
      "cell_type": "markdown",
      "id": "fb54b9de",
      "metadata": {
        "id": "fb54b9de"
      },
      "source": [
        "## Задание 2\n",
        "**[код 0.5]** Выполните стандартизацию признаков с помощью `StandardScaler`."
      ]
    },
    {
      "cell_type": "code",
      "execution_count": 3,
      "id": "e750e267",
      "metadata": {
        "id": "e750e267"
      },
      "outputs": [],
      "source": [
        "from sklearn.preprocessing import StandardScaler\n",
        "\n",
        "scaler = StandardScaler()\n",
        "X_train_scaled = scaler.fit_transform(X_train)\n",
        "X_test_scaled = scaler.transform(X_test)"
      ]
    },
    {
      "cell_type": "markdown",
      "id": "5e4858d9",
      "metadata": {
        "id": "5e4858d9"
      },
      "source": [
        "## Задание 3\n",
        "**[код 1]** Обучите `BaggingRegressor` с базовым `DecisionTreeRegressor` и выведите R² и MAE."
      ]
    },
    {
      "cell_type": "code",
      "execution_count": null,
      "id": "617bfd59",
      "metadata": {
        "id": "617bfd59",
        "colab": {
          "base_uri": "https://localhost:8080/"
        },
        "outputId": "f11ef633-9d18-474c-c77f-a9a75e2b4e62"
      },
      "outputs": [
        {
          "output_type": "stream",
          "name": "stdout",
          "text": [
            "R2:  0.8048\n",
            "Mae: 0.3278\n"
          ]
        }
      ],
      "source": [
        "from sklearn.ensemble import BaggingRegressor\n",
        "from sklearn.tree import DecisionTreeRegressor\n",
        "from sklearn.metrics import r2_score, mean_absolute_error\n",
        "\n",
        "bagging = BaggingRegressor(\n",
        "    estimator=DecisionTreeRegressor(random_state=42),\n",
        "    n_estimators=100,\n",
        "    random_state=42\n",
        ")\n",
        "bagging.fit(X_train_scaled, y_train)\n",
        "y_pred = bagging.predict(X_test_scaled)\n",
        "\n",
        "r2 = r2_score(y_test, y_pred)\n",
        "mae = mean_absolute_error(y_test, y_pred)\n",
        "\n",
        "print(f'R2: {r2:.4f}')\n",
        "print(f'MAE: {mae:.4f}')"
      ]
    },
    {
      "cell_type": "markdown",
      "id": "377b5cd9",
      "metadata": {
        "id": "377b5cd9"
      },
      "source": [
        "## Задание 4\n",
        "**[код + ответ 2]** Обучите `RandomForestRegressor` в рамках `Pipeline`, проведите кросс-валидацию по 5 фолдам и метрике `r2`, сравните результаты с `BaggingRegressor`. Объясните различия."
      ]
    },
    {
      "cell_type": "code",
      "execution_count": null,
      "id": "4be8c399",
      "metadata": {
        "id": "4be8c399",
        "colab": {
          "base_uri": "https://localhost:8080/"
        },
        "outputId": "e420f340-5efc-45c3-d846-1020be17a5c1"
      },
      "outputs": [
        {
          "output_type": "stream",
          "name": "stdout",
          "text": [
            "RandomForest R2: 0.656 ± 0.078\n"
          ]
        }
      ],
      "source": [
        "from sklearn.pipeline import make_pipeline\n",
        "from sklearn.model_selection import cross_val_score\n",
        "from sklearn.ensemble import RandomForestRegressor\n",
        "\n",
        "pipe_rf = make_pipeline(\n",
        "    RandomForestRegressor(n_estimators=100, random_state=42)\n",
        ")\n",
        "\n",
        "scores_rf = cross_val_score(pipe_rf, X, y, cv=5, scoring='r2')\n",
        "print(f\"RandomForest R2: {scores_rf.mean():.3f} ± {scores_rf.std():.3f}\")"
      ]
    },
    {
      "cell_type": "markdown",
      "id": "1d8517b6",
      "metadata": {
        "id": "1d8517b6"
      },
      "source": [
        "### Ваш ответ:\n",
        "- Кажется, по метрикам, что Bagging работает лучше, но...\n",
        "\n",
        "- Значительное расхождение в R2 во многом вызвано неоднородными метриками оценки (единственный split против CV)\n",
        "\n",
        "- Алгоритмически RandomForest более консервативен меньше переобучается, но при этом может недообучаться на некоторых фолдах, что и скорее всего даёт более низкое среднее R2 и высокий разброс"
      ]
    },
    {
      "cell_type": "markdown",
      "id": "43f1be0c",
      "metadata": {
        "id": "43f1be0c"
      },
      "source": [
        "## Задание 5\n",
        "**[код 1]** Подберите гиперпараметры `RandomForest` через `GridSearchCV`. Используйте не менее трех комбинаций параметров."
      ]
    },
    {
      "cell_type": "code",
      "execution_count": null,
      "id": "d63ab62e",
      "metadata": {
        "id": "d63ab62e",
        "colab": {
          "base_uri": "https://localhost:8080/"
        },
        "outputId": "593b3341-983e-4482-b7dc-a03ee22b39d8"
      },
      "outputs": [
        {
          "output_type": "stream",
          "name": "stderr",
          "text": [
            "/usr/local/lib/python3.11/dist-packages/sklearn/model_selection/_validation.py:528: FitFailedWarning: \n",
            "45 fits failed out of a total of 90.\n",
            "The score on these train-test partitions for these parameters will be set to nan.\n",
            "If these failures are not expected, you can try to debug them by setting error_score='raise'.\n",
            "\n",
            "Below are more details about the failures:\n",
            "--------------------------------------------------------------------------------\n",
            "45 fits failed with the following error:\n",
            "Traceback (most recent call last):\n",
            "  File \"/usr/local/lib/python3.11/dist-packages/sklearn/model_selection/_validation.py\", line 866, in _fit_and_score\n",
            "    estimator.fit(X_train, y_train, **fit_params)\n",
            "  File \"/usr/local/lib/python3.11/dist-packages/sklearn/base.py\", line 1382, in wrapper\n",
            "    estimator._validate_params()\n",
            "  File \"/usr/local/lib/python3.11/dist-packages/sklearn/base.py\", line 436, in _validate_params\n",
            "    validate_parameter_constraints(\n",
            "  File \"/usr/local/lib/python3.11/dist-packages/sklearn/utils/_param_validation.py\", line 98, in validate_parameter_constraints\n",
            "    raise InvalidParameterError(\n",
            "sklearn.utils._param_validation.InvalidParameterError: The 'max_features' parameter of RandomForestRegressor must be an int in the range [1, inf), a float in the range (0.0, 1.0], a str among {'sqrt', 'log2'} or None. Got 'auto' instead.\n",
            "\n",
            "  warnings.warn(some_fits_failed_message, FitFailedWarning)\n",
            "/usr/local/lib/python3.11/dist-packages/sklearn/model_selection/_search.py:1108: UserWarning: One or more of the test scores are non-finite: [       nan        nan        nan 0.81006006 0.81292792 0.81547582\n",
            "        nan        nan        nan 0.76989456 0.77189282 0.77510328\n",
            "        nan        nan        nan 0.80855288 0.81196726 0.81466559]\n",
            "  warnings.warn(\n"
          ]
        },
        {
          "output_type": "stream",
          "name": "stdout",
          "text": [
            "Best param: {'max_depth': None, 'max_features': 'sqrt', 'n_estimators': 200}\n",
            "Best CV R2: 0.815\n"
          ]
        }
      ],
      "source": [
        "from sklearn.model_selection import GridSearchCV\n",
        "\n",
        "param_grid = {\n",
        "    'n_estimators': [50, 100, 200],\n",
        "    'max_features': ['auto', 'sqrt'],\n",
        "    'max_depth': [None, 10, 20]\n",
        "}\n",
        "\n",
        "grid_search = GridSearchCV(\n",
        "    estimator=RandomForestRegressor(random_state=42),\n",
        "    param_grid=param_grid,\n",
        "    cv=5,\n",
        "    scoring='r2',\n",
        "    n_jobs=-1\n",
        ")\n",
        "\n",
        "grid_search.fit(X_train_scaled, y_train)\n",
        "\n",
        "print('Best param:', grid_search.best_params_)\n",
        "print('Best CV R2: {:.3f}'.format(grid_search.best_score_))"
      ]
    },
    {
      "cell_type": "markdown",
      "id": "dd7de600",
      "metadata": {
        "id": "dd7de600"
      },
      "source": [
        "## Задание 6\n",
        "**[код 0.5]** Обучите `GradientBoostingRegressor` и выведите метрики."
      ]
    },
    {
      "cell_type": "code",
      "execution_count": null,
      "id": "f310b586",
      "metadata": {
        "id": "f310b586",
        "colab": {
          "base_uri": "https://localhost:8080/"
        },
        "outputId": "908f2471-ef1c-411e-f05b-545a5b188640"
      },
      "outputs": [
        {
          "output_type": "stream",
          "name": "stdout",
          "text": [
            "R2:  0.7756\n",
            "MAE: 0.3717\n"
          ]
        }
      ],
      "source": [
        "from sklearn.ensemble import GradientBoostingRegressor\n",
        "\n",
        "gbr = GradientBoostingRegressor(random_state=42)\n",
        "gbr.fit(X_train_scaled, y_train)\n",
        "\n",
        "y_pred = gbr.predict(X_test_scaled)\n",
        "\n",
        "r2 = gbr.score(X_test_scaled, y_test)\n",
        "mae = sum(abs(y_test - y_pred)) / len(y_test)\n",
        "\n",
        "print(f'R2: {r2:.4f}')\n",
        "print(f'MAE: {mae:.4f}')"
      ]
    },
    {
      "cell_type": "markdown",
      "id": "415ee035",
      "metadata": {
        "id": "415ee035"
      },
      "source": [
        "## Задание 7\n",
        "**[код + ответ 2]** Постройте график зависимости ошибки модели `GradientBoostingRegressor` от параметра `n_estimators` и прокомментируйте. Число базовых моделей возьмите [10, 310) с шагом 20."
      ]
    },
    {
      "cell_type": "code",
      "execution_count": null,
      "id": "ecbaa316",
      "metadata": {
        "id": "ecbaa316",
        "colab": {
          "base_uri": "https://localhost:8080/",
          "height": 472
        },
        "outputId": "1ac2e74e-7ced-4089-c879-62b4b4f824f3"
      },
      "outputs": [
        {
          "output_type": "display_data",
          "data": {
            "text/plain": [
              "<Figure size 640x480 with 1 Axes>"
            ],
            "image/png": "[encoded data removed]"
          },
          "metadata": {}
        }
      ],
      "source": [
        "from matplotlib import pyplot as plt\n",
        "\n",
        "n_estimators_range = range(10, 310, 20)\n",
        "\n",
        "errors = []\n",
        "\n",
        "for n in n_estimators_range:\n",
        "    model = GradientBoostingRegressor(n_estimators=n, random_state=42)\n",
        "    model.fit(X_train_scaled, y_train)\n",
        "    y_pred = model.predict(X_test_scaled)\n",
        "    mae = sum(abs(y_test - y_pred)) / len(y_test)\n",
        "    errors.append(mae)\n",
        "\n",
        "plt.figure()\n",
        "plt.plot(list(n_estimators_range), errors, marker='o')\n",
        "plt.xlabel('n_estimators')\n",
        "plt.ylabel('MAE')\n",
        "plt.title('Зависимость MAE от n_estimators')\n",
        "plt.grid(True)"
      ]
    },
    {
      "cell_type": "markdown",
      "id": "cc60d6d3",
      "metadata": {
        "id": "cc60d6d3"
      },
      "source": [
        "### Ваш ответ:\n",
        "- График говорит, что MAE сначала заметно снижается с увеличением числа деревьев и достигает наибольшего выигрыша примерно к 150-200 деревьям, после чего дальнейшее увеличение даёт всё меньше улучшений и кривая выходит на плато\n",
        "- Это говорит о том, что модель быстро переходит из зоны недообучения в зону «насыщения»\n"
      ]
    },
    {
      "cell_type": "markdown",
      "id": "182d0842",
      "metadata": {
        "id": "182d0842"
      },
      "source": [
        "## Задание 8\n",
        "**[код 0.5]** Обучите `XGBRegressor`, выведите R² и RMSE."
      ]
    },
    {
      "cell_type": "code",
      "execution_count": null,
      "id": "30591d9d",
      "metadata": {
        "id": "30591d9d",
        "colab": {
          "base_uri": "https://localhost:8080/"
        },
        "outputId": "3aa04801-c125-479f-e146-ecbd35545875"
      },
      "outputs": [
        {
          "output_type": "stream",
          "name": "stdout",
          "text": [
            "R2: 0.8301\n",
            "RMSE: 0.2226\n"
          ]
        }
      ],
      "source": [
        "import xgboost as xgb\n",
        "from sklearn.metrics import r2_score, mean_squared_error\n",
        "\n",
        "xgbr = xgb.XGBRegressor(random_state=42)\n",
        "xgbr.fit(X_train_scaled, y_train)\n",
        "\n",
        "y_pred = xgbr.predict(X_test_scaled)\n",
        "\n",
        "r2 = r2_score(y_test, y_pred)\n",
        "rmse = mean_squared_error(y_test, y_pred)\n",
        "\n",
        "print(f'R2: {r2:.4f}')\n",
        "print(f'RMSE: {rmse:.4f}')"
      ]
    },
    {
      "cell_type": "markdown",
      "id": "7cd5686b",
      "metadata": {
        "id": "7cd5686b"
      },
      "source": [
        "## Задание 9\n",
        "**[код 0.5]** Обучите `LGBMRegressor` и сравните метрики с `XGBoost`."
      ]
    },
    {
      "cell_type": "code",
      "execution_count": null,
      "id": "fd18e413",
      "metadata": {
        "id": "fd18e413",
        "colab": {
          "base_uri": "https://localhost:8080/"
        },
        "outputId": "2f1cf09a-6f6c-494c-fdcd-749ee711f82e"
      },
      "outputs": [
        {
          "output_type": "stream",
          "name": "stderr",
          "text": [
            "/usr/local/lib/python3.11/dist-packages/sklearn/utils/deprecation.py:151: FutureWarning: 'force_all_finite' was renamed to 'ensure_all_finite' in 1.6 and will be removed in 1.8.\n",
            "  warnings.warn(\n"
          ]
        },
        {
          "output_type": "stream",
          "name": "stdout",
          "text": [
            "[LightGBM] [Info] Auto-choosing col-wise multi-threading, the overhead of testing was 0.001279 seconds.\n",
            "You can set `force_col_wise=true` to remove the overhead.\n",
            "[LightGBM] [Info] Total Bins 1838\n",
            "[LightGBM] [Info] Number of data points in the train set: 16512, number of used features: 8\n",
            "[LightGBM] [Info] Start training from score 2.071947\n",
            "R2: 0.8386\n",
            "RMSE: 0.2115\n"
          ]
        },
        {
          "output_type": "stream",
          "name": "stderr",
          "text": [
            "/usr/local/lib/python3.11/dist-packages/sklearn/utils/deprecation.py:151: FutureWarning: 'force_all_finite' was renamed to 'ensure_all_finite' in 1.6 and will be removed in 1.8.\n",
            "  warnings.warn(\n"
          ]
        }
      ],
      "source": [
        "from lightgbm import LGBMRegressor\n",
        "from sklearn.metrics import r2_score, mean_squared_error\n",
        "\n",
        "lgbm = LGBMRegressor(random_state=42)\n",
        "lgbm.fit(X_train_scaled, y_train)\n",
        "\n",
        "y_pred_lgbm = lgbm.predict(X_test_scaled)\n",
        "r2_lgbm = r2_score(y_test, y_pred_lgbm)\n",
        "rmse_lgbm = mean_squared_error(y_test, y_pred_lgbm)\n",
        "\n",
        "print(f'R2: {r2_lgbm:.4f}')\n",
        "print(f'RMSE: {rmse_lgbm:.4f}')\n",
        "\n",
        "# Выдал очень похожие метрики с XGBoost"
      ]
    },
    {
      "cell_type": "markdown",
      "id": "9c9e81b9",
      "metadata": {
        "id": "9c9e81b9"
      },
      "source": [
        "## Задание 10\n",
        "**[код 1]** Обучите `CatBoostRegressor` (с `verbose=0`) и выведите `feature_importances_`."
      ]
    },
    {
      "cell_type": "code",
      "execution_count": null,
      "id": "6eb3afb1",
      "metadata": {
        "id": "6eb3afb1",
        "colab": {
          "base_uri": "https://localhost:8080/"
        },
        "outputId": "c41a01a9-4589-4d9a-80ee-d5b479669f2b"
      },
      "outputs": [
        {
          "output_type": "stream",
          "name": "stdout",
          "text": [
            "Collecting catboost\n",
            "  Downloading catboost-1.2.8-cp311-cp311-manylinux2014_x86_64.whl.metadata (1.2 kB)\n",
            "Requirement already satisfied: graphviz in /usr/local/lib/python3.11/dist-packages (from catboost) (0.20.3)\n",
            "Requirement already satisfied: matplotlib in /usr/local/lib/python3.11/dist-packages (from catboost) (3.10.0)\n",
            "Requirement already satisfied: numpy<3.0,>=1.16.0 in /usr/local/lib/python3.11/dist-packages (from catboost) (2.0.2)\n",
            "Requirement already satisfied: pandas>=0.24 in /usr/local/lib/python3.11/dist-packages (from catboost) (2.2.2)\n",
            "Requirement already satisfied: scipy in /usr/local/lib/python3.11/dist-packages (from catboost) (1.15.3)\n",
            "Requirement already satisfied: plotly in /usr/local/lib/python3.11/dist-packages (from catboost) (5.24.1)\n",
            "Requirement already satisfied: six in /usr/local/lib/python3.11/dist-packages (from catboost) (1.17.0)\n",
            "Requirement already satisfied: python-dateutil>=2.8.2 in /usr/local/lib/python3.11/dist-packages (from pandas>=0.24->catboost) (2.9.0.post0)\n",
            "Requirement already satisfied: pytz>=2020.1 in /usr/local/lib/python3.11/dist-packages (from pandas>=0.24->catboost) (2025.2)\n",
            "Requirement already satisfied: tzdata>=2022.7 in /usr/local/lib/python3.11/dist-packages (from pandas>=0.24->catboost) (2025.2)\n",
            "Requirement already satisfied: contourpy>=1.0.1 in /usr/local/lib/python3.11/dist-packages (from matplotlib->catboost) (1.3.2)\n",
            "Requirement already satisfied: cycler>=0.10 in /usr/local/lib/python3.11/dist-packages (from matplotlib->catboost) (0.12.1)\n",
            "Requirement already satisfied: fonttools>=4.22.0 in /usr/local/lib/python3.11/dist-packages (from matplotlib->catboost) (4.58.1)\n",
            "Requirement already satisfied: kiwisolver>=1.3.1 in /usr/local/lib/python3.11/dist-packages (from matplotlib->catboost) (1.4.8)\n",
            "Requirement already satisfied: packaging>=20.0 in /usr/local/lib/python3.11/dist-packages (from matplotlib->catboost) (24.2)\n",
            "Requirement already satisfied: pillow>=8 in /usr/local/lib/python3.11/dist-packages (from matplotlib->catboost) (11.2.1)\n",
            "Requirement already satisfied: pyparsing>=2.3.1 in /usr/local/lib/python3.11/dist-packages (from matplotlib->catboost) (3.2.3)\n",
            "Requirement already satisfied: tenacity>=6.2.0 in /usr/local/lib/python3.11/dist-packages (from plotly->catboost) (9.1.2)\n",
            "Downloading catboost-1.2.8-cp311-cp311-manylinux2014_x86_64.whl (99.2 MB)\n",
            "\u001b[2K   \u001b[90m━━━━━━━━━━━━━━━━━━━━━━━━━━━━━━━━━━━━━━━━\u001b[0m \u001b[32m99.2/99.2 MB\u001b[0m \u001b[31m8.7 MB/s\u001b[0m eta \u001b[36m0:00:00\u001b[0m\n",
            "\u001b[?25hInstalling collected packages: catboost\n",
            "Successfully installed catboost-1.2.8\n",
            "Фичи: [33.48734969  5.43522632  3.54738669  1.92054693  1.90036329 13.88277332\n",
            " 21.1845296  18.64182416]\n"
          ]
        }
      ],
      "source": [
        "!pip install catboost\n",
        "from catboost import CatBoostRegressor\n",
        "\n",
        "cb = CatBoostRegressor(verbose=0, random_state=42)\n",
        "cb.fit(X_train_scaled, y_train)\n",
        "\n",
        "importances = cb.feature_importances_\n",
        "print('Фичи:', importances)"
      ]
    },
    {
      "cell_type": "markdown",
      "id": "81e5d274",
      "metadata": {
        "id": "81e5d274"
      },
      "source": [
        "## Задание 11\n",
        "**[ответ 1]** Сравните `XGB`, `LGBM`, `CatBoost`. Объясните различия."
      ]
    },
    {
      "cell_type": "markdown",
      "id": "eb3668d3",
      "metadata": {
        "id": "eb3668d3"
      },
      "source": [
        "### Ваш ответ:\n",
        "..."
      ]
    },
    {
      "cell_type": "markdown",
      "id": "14f21149",
      "metadata": {
        "id": "14f21149"
      },
      "source": [
        "## Задание 12\n",
        "**[код 1]** Постройте стекинг-модель: `RandomForest`, `LGBM`, `CatBoost` + `Ridge`."
      ]
    },
    {
      "cell_type": "code",
      "execution_count": null,
      "id": "87dcebc6",
      "metadata": {
        "scrolled": true,
        "id": "87dcebc6",
        "colab": {
          "base_uri": "https://localhost:8080/",
          "height": 196
        },
        "outputId": "24f3bd9b-95fc-42ab-d017-bab5886a791c"
      },
      "outputs": [
        {
          "output_type": "execute_result",
          "data": {
            "text/plain": [
              "StackingRegressor(cv=5,\n",
              "                  estimators=[('rf', RandomForestRegressor(random_state=42)),\n",
              "                              ('lgbm', LGBMRegressor(random_state=42)),\n",
              "                              ('cat',\n",
              "                               <catboost.core.CatBoostRegressor object at 0x7fa2b6bb8e90>)],\n",
              "                  final_estimator=Ridge(random_state=42), n_jobs=-1)"
            ],
            "text/html": [
              "<style>#sk-container-id-1 {\n",
              "  /* Definition of color scheme common for light and dark mode */\n",
              "  --sklearn-color-text: #000;\n",
              "  --sklearn-color-text-muted: #666;\n",
              "  --sklearn-color-line: gray;\n",
              "  /* Definition of color scheme for unfitted estimators */\n",
              "  --sklearn-color-unfitted-level-0: #fff5e6;\n",
              "  --sklearn-color-unfitted-level-1: #f6e4d2;\n",
              "  --sklearn-color-unfitted-level-2: #ffe0b3;\n",
              "  --sklearn-color-unfitted-level-3: chocolate;\n",
              "  /* Definition of color scheme for fitted estimators */\n",
              "  --sklearn-color-fitted-level-0: #f0f8ff;\n",
              "  --sklearn-color-fitted-level-1: #d4ebff;\n",
              "  --sklearn-color-fitted-level-2: #b3dbfd;\n",
              "  --sklearn-color-fitted-level-3: cornflowerblue;\n",
              "\n",
              "  /* Specific color for light theme */\n",
              "  --sklearn-color-text-on-default-background: var(--sg-text-color, var(--theme-code-foreground, var(--jp-content-font-color1, black)));\n",
              "  --sklearn-color-background: var(--sg-background-color, var(--theme-background, var(--jp-layout-color0, white)));\n",
              "  --sklearn-color-border-box: var(--sg-text-color, var(--theme-code-foreground, var(--jp-content-font-color1, black)));\n",
              "  --sklearn-color-icon: #696969;\n",
              "\n",
              "  @media (prefers-color-scheme: dark) {\n",
              "    /* Redefinition of color scheme for dark theme */\n",
              "    --sklearn-color-text-on-default-background: var(--sg-text-color, var(--theme-code-foreground, var(--jp-content-font-color1, white)));\n",
              "    --sklearn-color-background: var(--sg-background-color, var(--theme-background, var(--jp-layout-color0, #111)));\n",
              "    --sklearn-color-border-box: var(--sg-text-color, var(--theme-code-foreground, var(--jp-content-font-color1, white)));\n",
              "    --sklearn-color-icon: #878787;\n",
              "  }\n",
              "}\n",
              "\n",
              "#sk-container-id-1 {\n",
              "  color: var(--sklearn-color-text);\n",
              "}\n",
              "\n",
              "#sk-container-id-1 pre {\n",
              "  padding: 0;\n",
              "}\n",
              "\n",
              "#sk-container-id-1 input.sk-hidden--visually {\n",
              "  border: 0;\n",
              "  clip: rect(1px 1px 1px 1px);\n",
              "  clip: rect(1px, 1px, 1px, 1px);\n",
              "  height: 1px;\n",
              "  margin: -1px;\n",
              "  overflow: hidden;\n",
              "  padding: 0;\n",
              "  position: absolute;\n",
              "  width: 1px;\n",
              "}\n",
              "\n",
              "#sk-container-id-1 div.sk-dashed-wrapped {\n",
              "  border: 1px dashed var(--sklearn-color-line);\n",
              "  margin: 0 0.4em 0.5em 0.4em;\n",
              "  box-sizing: border-box;\n",
              "  padding-bottom: 0.4em;\n",
              "  background-color: var(--sklearn-color-background);\n",
              "}\n",
              "\n",
              "#sk-container-id-1 div.sk-container {\n",
              "  /* jupyter's `normalize.less` sets `[hidden] { display: none; }`\n",
              "     but bootstrap.min.css set `[hidden] { display: none !important; }`\n",
              "     so we also need the `!important` here to be able to override the\n",
              "     default hidden behavior on the sphinx rendered scikit-learn.org.\n",
              "     See: https://github.com/scikit-learn/scikit-learn/issues/21755 */\n",
              "  display: inline-block !important;\n",
              "  position: relative;\n",
              "}\n",
              "\n",
              "#sk-container-id-1 div.sk-text-repr-fallback {\n",
              "  display: none;\n",
              "}\n",
              "\n",
              "div.sk-parallel-item,\n",
              "div.sk-serial,\n",
              "div.sk-item {\n",
              "  /* draw centered vertical line to link estimators */\n",
              "  background-image: linear-gradient(var(--sklearn-color-text-on-default-background), var(--sklearn-color-text-on-default-background));\n",
              "  background-size: 2px 100%;\n",
              "  background-repeat: no-repeat;\n",
              "  background-position: center center;\n",
              "}\n",
              "\n",
              "/* Parallel-specific style estimator block */\n",
              "\n",
              "#sk-container-id-1 div.sk-parallel-item::after {\n",
              "  content: \"\";\n",
              "  width: 100%;\n",
              "  border-bottom: 2px solid var(--sklearn-color-text-on-default-background);\n",
              "  flex-grow: 1;\n",
              "}\n",
              "\n",
              "#sk-container-id-1 div.sk-parallel {\n",
              "  display: flex;\n",
              "  align-items: stretch;\n",
              "  justify-content: center;\n",
              "  background-color: var(--sklearn-color-background);\n",
              "  position: relative;\n",
              "}\n",
              "\n",
              "#sk-container-id-1 div.sk-parallel-item {\n",
              "  display: flex;\n",
              "  flex-direction: column;\n",
              "}\n",
              "\n",
              "#sk-container-id-1 div.sk-parallel-item:first-child::after {\n",
              "  align-self: flex-end;\n",
              "  width: 50%;\n",
              "}\n",
              "\n",
              "#sk-container-id-1 div.sk-parallel-item:last-child::after {\n",
              "  align-self: flex-start;\n",
              "  width: 50%;\n",
              "}\n",
              "\n",
              "#sk-container-id-1 div.sk-parallel-item:only-child::after {\n",
              "  width: 0;\n",
              "}\n",
              "\n",
              "/* Serial-specific style estimator block */\n",
              "\n",
              "#sk-container-id-1 div.sk-serial {\n",
              "  display: flex;\n",
              "  flex-direction: column;\n",
              "  align-items: center;\n",
              "  background-color: var(--sklearn-color-background);\n",
              "  padding-right: 1em;\n",
              "  padding-left: 1em;\n",
              "}\n",
              "\n",
              "\n",
              "/* Toggleable style: style used for estimator/Pipeline/ColumnTransformer box that is\n",
              "clickable and can be expanded/collapsed.\n",
              "- Pipeline and ColumnTransformer use this feature and define the default style\n",
              "- Estimators will overwrite some part of the style using the `sk-estimator` class\n",
              "*/\n",
              "\n",
              "/* Pipeline and ColumnTransformer style (default) */\n",
              "\n",
              "#sk-container-id-1 div.sk-toggleable {\n",
              "  /* Default theme specific background. It is overwritten whether we have a\n",
              "  specific estimator or a Pipeline/ColumnTransformer */\n",
              "  background-color: var(--sklearn-color-background);\n",
              "}\n",
              "\n",
              "/* Toggleable label */\n",
              "#sk-container-id-1 label.sk-toggleable__label {\n",
              "  cursor: pointer;\n",
              "  display: flex;\n",
              "  width: 100%;\n",
              "  margin-bottom: 0;\n",
              "  padding: 0.5em;\n",
              "  box-sizing: border-box;\n",
              "  text-align: center;\n",
              "  align-items: start;\n",
              "  justify-content: space-between;\n",
              "  gap: 0.5em;\n",
              "}\n",
              "\n",
              "#sk-container-id-1 label.sk-toggleable__label .caption {\n",
              "  font-size: 0.6rem;\n",
              "  font-weight: lighter;\n",
              "  color: var(--sklearn-color-text-muted);\n",
              "}\n",
              "\n",
              "#sk-container-id-1 label.sk-toggleable__label-arrow:before {\n",
              "  /* Arrow on the left of the label */\n",
              "  content: \"▸\";\n",
              "  float: left;\n",
              "  margin-right: 0.25em;\n",
              "  color: var(--sklearn-color-icon);\n",
              "}\n",
              "\n",
              "#sk-container-id-1 label.sk-toggleable__label-arrow:hover:before {\n",
              "  color: var(--sklearn-color-text);\n",
              "}\n",
              "\n",
              "/* Toggleable content - dropdown */\n",
              "\n",
              "#sk-container-id-1 div.sk-toggleable__content {\n",
              "  max-height: 0;\n",
              "  max-width: 0;\n",
              "  overflow: hidden;\n",
              "  text-align: left;\n",
              "  /* unfitted */\n",
              "  background-color: var(--sklearn-color-unfitted-level-0);\n",
              "}\n",
              "\n",
              "#sk-container-id-1 div.sk-toggleable__content.fitted {\n",
              "  /* fitted */\n",
              "  background-color: var(--sklearn-color-fitted-level-0);\n",
              "}\n",
              "\n",
              "#sk-container-id-1 div.sk-toggleable__content pre {\n",
              "  margin: 0.2em;\n",
              "  border-radius: 0.25em;\n",
              "  color: var(--sklearn-color-text);\n",
              "  /* unfitted */\n",
              "  background-color: var(--sklearn-color-unfitted-level-0);\n",
              "}\n",
              "\n",
              "#sk-container-id-1 div.sk-toggleable__content.fitted pre {\n",
              "  /* unfitted */\n",
              "  background-color: var(--sklearn-color-fitted-level-0);\n",
              "}\n",
              "\n",
              "#sk-container-id-1 input.sk-toggleable__control:checked~div.sk-toggleable__content {\n",
              "  /* Expand drop-down */\n",
              "  max-height: 200px;\n",
              "  max-width: 100%;\n",
              "  overflow: auto;\n",
              "}\n",
              "\n",
              "#sk-container-id-1 input.sk-toggleable__control:checked~label.sk-toggleable__label-arrow:before {\n",
              "  content: \"▾\";\n",
              "}\n",
              "\n",
              "/* Pipeline/ColumnTransformer-specific style */\n",
              "\n",
              "#sk-container-id-1 div.sk-label input.sk-toggleable__control:checked~label.sk-toggleable__label {\n",
              "  color: var(--sklearn-color-text);\n",
              "  background-color: var(--sklearn-color-unfitted-level-2);\n",
              "}\n",
              "\n",
              "#sk-container-id-1 div.sk-label.fitted input.sk-toggleable__control:checked~label.sk-toggleable__label {\n",
              "  background-color: var(--sklearn-color-fitted-level-2);\n",
              "}\n",
              "\n",
              "/* Estimator-specific style */\n",
              "\n",
              "/* Colorize estimator box */\n",
              "#sk-container-id-1 div.sk-estimator input.sk-toggleable__control:checked~label.sk-toggleable__label {\n",
              "  /* unfitted */\n",
              "  background-color: var(--sklearn-color-unfitted-level-2);\n",
              "}\n",
              "\n",
              "#sk-container-id-1 div.sk-estimator.fitted input.sk-toggleable__control:checked~label.sk-toggleable__label {\n",
              "  /* fitted */\n",
              "  background-color: var(--sklearn-color-fitted-level-2);\n",
              "}\n",
              "\n",
              "#sk-container-id-1 div.sk-label label.sk-toggleable__label,\n",
              "#sk-container-id-1 div.sk-label label {\n",
              "  /* The background is the default theme color */\n",
              "  color: var(--sklearn-color-text-on-default-background);\n",
              "}\n",
              "\n",
              "/* On hover, darken the color of the background */\n",
              "#sk-container-id-1 div.sk-label:hover label.sk-toggleable__label {\n",
              "  color: var(--sklearn-color-text);\n",
              "  background-color: var(--sklearn-color-unfitted-level-2);\n",
              "}\n",
              "\n",
              "/* Label box, darken color on hover, fitted */\n",
              "#sk-container-id-1 div.sk-label.fitted:hover label.sk-toggleable__label.fitted {\n",
              "  color: var(--sklearn-color-text);\n",
              "  background-color: var(--sklearn-color-fitted-level-2);\n",
              "}\n",
              "\n",
              "/* Estimator label */\n",
              "\n",
              "#sk-container-id-1 div.sk-label label {\n",
              "  font-family: monospace;\n",
              "  font-weight: bold;\n",
              "  display: inline-block;\n",
              "  line-height: 1.2em;\n",
              "}\n",
              "\n",
              "#sk-container-id-1 div.sk-label-container {\n",
              "  text-align: center;\n",
              "}\n",
              "\n",
              "/* Estimator-specific */\n",
              "#sk-container-id-1 div.sk-estimator {\n",
              "  font-family: monospace;\n",
              "  border: 1px dotted var(--sklearn-color-border-box);\n",
              "  border-radius: 0.25em;\n",
              "  box-sizing: border-box;\n",
              "  margin-bottom: 0.5em;\n",
              "  /* unfitted */\n",
              "  background-color: var(--sklearn-color-unfitted-level-0);\n",
              "}\n",
              "\n",
              "#sk-container-id-1 div.sk-estimator.fitted {\n",
              "  /* fitted */\n",
              "  background-color: var(--sklearn-color-fitted-level-0);\n",
              "}\n",
              "\n",
              "/* on hover */\n",
              "#sk-container-id-1 div.sk-estimator:hover {\n",
              "  /* unfitted */\n",
              "  background-color: var(--sklearn-color-unfitted-level-2);\n",
              "}\n",
              "\n",
              "#sk-container-id-1 div.sk-estimator.fitted:hover {\n",
              "  /* fitted */\n",
              "  background-color: var(--sklearn-color-fitted-level-2);\n",
              "}\n",
              "\n",
              "/* Specification for estimator info (e.g. \"i\" and \"?\") */\n",
              "\n",
              "/* Common style for \"i\" and \"?\" */\n",
              "\n",
              ".sk-estimator-doc-link,\n",
              "a:link.sk-estimator-doc-link,\n",
              "a:visited.sk-estimator-doc-link {\n",
              "  float: right;\n",
              "  font-size: smaller;\n",
              "  line-height: 1em;\n",
              "  font-family: monospace;\n",
              "  background-color: var(--sklearn-color-background);\n",
              "  border-radius: 1em;\n",
              "  height: 1em;\n",
              "  width: 1em;\n",
              "  text-decoration: none !important;\n",
              "  margin-left: 0.5em;\n",
              "  text-align: center;\n",
              "  /* unfitted */\n",
              "  border: var(--sklearn-color-unfitted-level-1) 1pt solid;\n",
              "  color: var(--sklearn-color-unfitted-level-1);\n",
              "}\n",
              "\n",
              ".sk-estimator-doc-link.fitted,\n",
              "a:link.sk-estimator-doc-link.fitted,\n",
              "a:visited.sk-estimator-doc-link.fitted {\n",
              "  /* fitted */\n",
              "  border: var(--sklearn-color-fitted-level-1) 1pt solid;\n",
              "  color: var(--sklearn-color-fitted-level-1);\n",
              "}\n",
              "\n",
              "/* On hover */\n",
              "div.sk-estimator:hover .sk-estimator-doc-link:hover,\n",
              ".sk-estimator-doc-link:hover,\n",
              "div.sk-label-container:hover .sk-estimator-doc-link:hover,\n",
              ".sk-estimator-doc-link:hover {\n",
              "  /* unfitted */\n",
              "  background-color: var(--sklearn-color-unfitted-level-3);\n",
              "  color: var(--sklearn-color-background);\n",
              "  text-decoration: none;\n",
              "}\n",
              "\n",
              "div.sk-estimator.fitted:hover .sk-estimator-doc-link.fitted:hover,\n",
              ".sk-estimator-doc-link.fitted:hover,\n",
              "div.sk-label-container:hover .sk-estimator-doc-link.fitted:hover,\n",
              ".sk-estimator-doc-link.fitted:hover {\n",
              "  /* fitted */\n",
              "  background-color: var(--sklearn-color-fitted-level-3);\n",
              "  color: var(--sklearn-color-background);\n",
              "  text-decoration: none;\n",
              "}\n",
              "\n",
              "/* Span, style for the box shown on hovering the info icon */\n",
              ".sk-estimator-doc-link span {\n",
              "  display: none;\n",
              "  z-index: 9999;\n",
              "  position: relative;\n",
              "  font-weight: normal;\n",
              "  right: .2ex;\n",
              "  padding: .5ex;\n",
              "  margin: .5ex;\n",
              "  width: min-content;\n",
              "  min-width: 20ex;\n",
              "  max-width: 50ex;\n",
              "  color: var(--sklearn-color-text);\n",
              "  box-shadow: 2pt 2pt 4pt #999;\n",
              "  /* unfitted */\n",
              "  background: var(--sklearn-color-unfitted-level-0);\n",
              "  border: .5pt solid var(--sklearn-color-unfitted-level-3);\n",
              "}\n",
              "\n",
              ".sk-estimator-doc-link.fitted span {\n",
              "  /* fitted */\n",
              "  background: var(--sklearn-color-fitted-level-0);\n",
              "  border: var(--sklearn-color-fitted-level-3);\n",
              "}\n",
              "\n",
              ".sk-estimator-doc-link:hover span {\n",
              "  display: block;\n",
              "}\n",
              "\n",
              "/* \"?\"-specific style due to the `<a>` HTML tag */\n",
              "\n",
              "#sk-container-id-1 a.estimator_doc_link {\n",
              "  float: right;\n",
              "  font-size: 1rem;\n",
              "  line-height: 1em;\n",
              "  font-family: monospace;\n",
              "  background-color: var(--sklearn-color-background);\n",
              "  border-radius: 1rem;\n",
              "  height: 1rem;\n",
              "  width: 1rem;\n",
              "  text-decoration: none;\n",
              "  /* unfitted */\n",
              "  color: var(--sklearn-color-unfitted-level-1);\n",
              "  border: var(--sklearn-color-unfitted-level-1) 1pt solid;\n",
              "}\n",
              "\n",
              "#sk-container-id-1 a.estimator_doc_link.fitted {\n",
              "  /* fitted */\n",
              "  border: var(--sklearn-color-fitted-level-1) 1pt solid;\n",
              "  color: var(--sklearn-color-fitted-level-1);\n",
              "}\n",
              "\n",
              "/* On hover */\n",
              "#sk-container-id-1 a.estimator_doc_link:hover {\n",
              "  /* unfitted */\n",
              "  background-color: var(--sklearn-color-unfitted-level-3);\n",
              "  color: var(--sklearn-color-background);\n",
              "  text-decoration: none;\n",
              "}\n",
              "\n",
              "#sk-container-id-1 a.estimator_doc_link.fitted:hover {\n",
              "  /* fitted */\n",
              "  background-color: var(--sklearn-color-fitted-level-3);\n",
              "}\n",
              "</style><div id=\"sk-container-id-1\" class=\"sk-top-container\"><div class=\"sk-text-repr-fallback\"><pre>StackingRegressor(cv=5,\n",
              "                  estimators=[(&#x27;rf&#x27;, RandomForestRegressor(random_state=42)),\n",
              "                              (&#x27;lgbm&#x27;, LGBMRegressor(random_state=42)),\n",
              "                              (&#x27;cat&#x27;,\n",
              "                               &lt;catboost.core.CatBoostRegressor object at 0x7fa2b6bb8e90&gt;)],\n",
              "                  final_estimator=Ridge(random_state=42), n_jobs=-1)</pre><b>In a Jupyter environment, please rerun this cell to show the HTML representation or trust the notebook. <br />On GitHub, the HTML representation is unable to render, please try loading this page with nbviewer.org.</b></div><div class=\"sk-container\" hidden><div class=\"sk-item sk-dashed-wrapped\"><div class=\"sk-label-container\"><div class=\"sk-label fitted sk-toggleable\"><input class=\"sk-toggleable__control sk-hidden--visually\" id=\"sk-estimator-id-1\" type=\"checkbox\" ><label for=\"sk-estimator-id-1\" class=\"sk-toggleable__label fitted sk-toggleable__label-arrow\"><div><div>StackingRegressor</div></div><div><a class=\"sk-estimator-doc-link fitted\" rel=\"noreferrer\" target=\"_blank\" href=\"https://scikit-learn.org/1.6/modules/generated/sklearn.ensemble.StackingRegressor.html\">?<span>Documentation for StackingRegressor</span></a><span class=\"sk-estimator-doc-link fitted\">i<span>Fitted</span></span></div></label><div class=\"sk-toggleable__content fitted\"><pre>StackingRegressor(cv=5,\n",
              "                  estimators=[(&#x27;rf&#x27;, RandomForestRegressor(random_state=42)),\n",
              "                              (&#x27;lgbm&#x27;, LGBMRegressor(random_state=42)),\n",
              "                              (&#x27;cat&#x27;,\n",
              "                               &lt;catboost.core.CatBoostRegressor object at 0x7fa2b6bb8e90&gt;)],\n",
              "                  final_estimator=Ridge(random_state=42), n_jobs=-1)</pre></div> </div></div><div class=\"sk-serial\"><div class=\"sk-item\"><div class=\"sk-parallel\"><div class=\"sk-parallel-item\"><div class=\"sk-item\"><div class=\"sk-label-container\"><div class=\"sk-label fitted sk-toggleable\"><label>rf</label></div></div><div class=\"sk-serial\"><div class=\"sk-item\"><div class=\"sk-estimator fitted sk-toggleable\"><input class=\"sk-toggleable__control sk-hidden--visually\" id=\"sk-estimator-id-2\" type=\"checkbox\" ><label for=\"sk-estimator-id-2\" class=\"sk-toggleable__label fitted sk-toggleable__label-arrow\"><div><div>RandomForestRegressor</div></div><div><a class=\"sk-estimator-doc-link fitted\" rel=\"noreferrer\" target=\"_blank\" href=\"https://scikit-learn.org/1.6/modules/generated/sklearn.ensemble.RandomForestRegressor.html\">?<span>Documentation for RandomForestRegressor</span></a></div></label><div class=\"sk-toggleable__content fitted\"><pre>RandomForestRegressor(random_state=42)</pre></div> </div></div></div></div></div><div class=\"sk-parallel-item\"><div class=\"sk-item\"><div class=\"sk-label-container\"><div class=\"sk-label fitted sk-toggleable\"><label>lgbm</label></div></div><div class=\"sk-serial\"><div class=\"sk-item\"><div class=\"sk-estimator fitted sk-toggleable\"><input class=\"sk-toggleable__control sk-hidden--visually\" id=\"sk-estimator-id-3\" type=\"checkbox\" ><label for=\"sk-estimator-id-3\" class=\"sk-toggleable__label fitted sk-toggleable__label-arrow\"><div><div>LGBMRegressor</div></div></label><div class=\"sk-toggleable__content fitted\"><pre>LGBMRegressor(random_state=42)</pre></div> </div></div></div></div></div><div class=\"sk-parallel-item\"><div class=\"sk-item\"><div class=\"sk-label-container\"><div class=\"sk-label fitted sk-toggleable\"><label>cat</label></div></div><div class=\"sk-serial\"><div class=\"sk-item\"><div class=\"sk-estimator fitted sk-toggleable\"><input class=\"sk-toggleable__control sk-hidden--visually\" id=\"sk-estimator-id-4\" type=\"checkbox\" ><label for=\"sk-estimator-id-4\" class=\"sk-toggleable__label fitted sk-toggleable__label-arrow\"><div><div>CatBoostRegressor</div></div></label><div class=\"sk-toggleable__content fitted\"><pre>&lt;catboost.core.CatBoostRegressor object at 0x7fa2b6bb8e90&gt;</pre></div> </div></div></div></div></div></div></div><div class=\"sk-item\"><div class=\"sk-parallel\"><div class=\"sk-parallel-item\"><div class=\"sk-item\"><div class=\"sk-label-container\"><div class=\"sk-label fitted sk-toggleable\"><label>final_estimator</label></div></div><div class=\"sk-serial\"><div class=\"sk-item\"><div class=\"sk-estimator fitted sk-toggleable\"><input class=\"sk-toggleable__control sk-hidden--visually\" id=\"sk-estimator-id-5\" type=\"checkbox\" ><label for=\"sk-estimator-id-5\" class=\"sk-toggleable__label fitted sk-toggleable__label-arrow\"><div><div>Ridge</div></div><div><a class=\"sk-estimator-doc-link fitted\" rel=\"noreferrer\" target=\"_blank\" href=\"https://scikit-learn.org/1.6/modules/generated/sklearn.linear_model.Ridge.html\">?<span>Documentation for Ridge</span></a></div></label><div class=\"sk-toggleable__content fitted\"><pre>Ridge(random_state=42)</pre></div> </div></div></div></div></div></div></div></div></div></div></div>"
            ]
          },
          "metadata": {},
          "execution_count": 20
        }
      ],
      "source": [
        "from sklearn.ensemble import StackingRegressor\n",
        "from sklearn.linear_model import Ridge\n",
        "\n",
        "estimators = [\n",
        "    ('rf', RandomForestRegressor(n_estimators=100, random_state=42)),\n",
        "    ('lgbm', LGBMRegressor(random_state=42)),\n",
        "    ('cat', CatBoostRegressor(verbose=0, random_state=42))\n",
        "]\n",
        "\n",
        "stack_model = StackingRegressor(\n",
        "    estimators=estimators,\n",
        "    final_estimator=Ridge(random_state=42),\n",
        "    cv=5,\n",
        "    n_jobs=-1\n",
        ")\n",
        "\n",
        "stack_model.fit(X_train_scaled, y_train)"
      ]
    },
    {
      "cell_type": "markdown",
      "id": "2dd24c04",
      "metadata": {
        "id": "2dd24c04"
      },
      "source": [
        "## Задание 13\n",
        "**[код 2]** Постройте `Pipeline` для стекинг-модели: BaggingRegressor(DT), GB, XGB + Ridge. Подберите параметры для `Ridge` по `GridSearchCV`.\n"
      ]
    },
    {
      "cell_type": "code",
      "execution_count": null,
      "id": "05b76afd",
      "metadata": {
        "id": "05b76afd",
        "colab": {
          "base_uri": "https://localhost:8080/"
        },
        "outputId": "addc55ff-6cbf-4200-f620-9047a7ca5f4e"
      },
      "outputs": [
        {
          "output_type": "stream",
          "name": "stderr",
          "text": [
            "/usr/local/lib/python3.11/dist-packages/joblib/externals/loky/process_executor.py:782: UserWarning: A worker stopped while some jobs were given to the executor. This can be caused by a too short worker timeout or by a memory leak.\n",
            "  warnings.warn(\n"
          ]
        },
        {
          "output_type": "stream",
          "name": "stdout",
          "text": [
            "Best Ridge params: {'stackingregressor__final_estimator__alpha': 0.1, 'stackingregressor__final_estimator__solver': 'auto'}\n",
            "Best CV R2: 0.834\n"
          ]
        }
      ],
      "source": [
        "stack = StackingRegressor(\n",
        "    estimators=[\n",
        "        ('bag', BaggingRegressor(\n",
        "            DecisionTreeRegressor(random_state=42),\n",
        "            n_estimators=100,\n",
        "            random_state=42\n",
        "        )),\n",
        "        ('gb', GradientBoostingRegressor(random_state=42)),\n",
        "        ('xgb', xgb.XGBRegressor(random_state=42))\n",
        "    ],\n",
        "    final_estimator=Ridge(random_state=42),\n",
        "    cv=5,\n",
        "    n_jobs=-1\n",
        ")\n",
        "\n",
        "pipeline = make_pipeline(stack)\n",
        "param_grid = {\n",
        "    'stackingregressor__final_estimator__alpha': [0.1, 1.0, 10.0],\n",
        "    'stackingregressor__final_estimator__solver': ['auto', 'svd']\n",
        "}\n",
        "\n",
        "grid = GridSearchCV(\n",
        "    estimator=pipeline,\n",
        "    param_grid=param_grid,\n",
        "    cv=5,\n",
        "    scoring='r2',\n",
        "    n_jobs=-1\n",
        ")\n",
        "grid.fit(X_train_scaled, y_train)\n",
        "\n",
        "print('Best Ridge params:', grid.best_params_)\n",
        "print(f'Best CV R2: {grid.best_score_:.3f}')"
      ]
    },
    {
      "cell_type": "markdown",
      "id": "ff69e1e0",
      "metadata": {
        "id": "ff69e1e0"
      },
      "source": [
        "## Задание 14\n",
        "**[ответ 0.5]** Объясните разницу между `Bagging` и `Boosting`."
      ]
    },
    {
      "cell_type": "markdown",
      "id": "2bd40fbf",
      "metadata": {
        "id": "2bd40fbf"
      },
      "source": [
        "### Ваш ответ:\n",
        "\n",
        "- Ключевая разница в том, что Bagging борется с дисперсией, усредняя многие \"независимые\" сильные модели, а Boosting — с систематической ошибкой, последовательно усиливая слабые модели на наиболее сложных примерах"
      ]
    },
    {
      "cell_type": "markdown",
      "id": "ea073c7a",
      "metadata": {
        "id": "ea073c7a"
      },
      "source": [
        "## Задание 15\n",
        "**[код + ответ 1]** Выведите R², MAE, MSE, RMSE, MAPE для лучшей на текущий момент модели. Объясните, какую метрику использовать в бизнесе, где важна точность в процентах."
      ]
    },
    {
      "cell_type": "code",
      "execution_count": null,
      "id": "2ed708d1",
      "metadata": {
        "id": "2ed708d1"
      },
      "outputs": [],
      "source": []
    },
    {
      "cell_type": "markdown",
      "id": "411bc5a0",
      "metadata": {
        "id": "411bc5a0"
      },
      "source": [
        "### Ваш ответ:\n",
        "- В бизнесе, где важна точность в процентах, обычно выбирают MAPE, поскольку она показывает среднюю абсолютную ошибку. Это позволяет легко интерпретировать, насколько в среднем ваше предсказание \"промахивается\" в процентах от реального значения"
      ]
    },
    {
      "cell_type": "markdown",
      "id": "33766d66",
      "metadata": {
        "id": "33766d66"
      },
      "source": [
        "## Задание 16 (Бонусное, Optuna)\n",
        "**[код 1]** Настройте `LGBMRegressor` через `Optuna`: `max_depth`, `learning_rate`, `n_estimators`."
      ]
    },
    {
      "cell_type": "code",
      "execution_count": 4,
      "id": "ce6a6ce7",
      "metadata": {
        "id": "ce6a6ce7",
        "colab": {
          "base_uri": "https://localhost:8080/"
        },
        "outputId": "9100a3b8-d064-4a0d-de45-8678ca34081c"
      },
      "outputs": [
        {
          "output_type": "stream",
          "name": "stdout",
          "text": [
            "Requirement already satisfied: optuna in /usr/local/lib/python3.11/dist-packages (4.3.0)\n",
            "Requirement already satisfied: alembic>=1.5.0 in /usr/local/lib/python3.11/dist-packages (from optuna) (1.16.1)\n",
            "Requirement already satisfied: colorlog in /usr/local/lib/python3.11/dist-packages (from optuna) (6.9.0)\n",
            "Requirement already satisfied: numpy in /usr/local/lib/python3.11/dist-packages (from optuna) (2.0.2)\n",
            "Requirement already satisfied: packaging>=20.0 in /usr/local/lib/python3.11/dist-packages (from optuna) (24.2)\n",
            "Requirement already satisfied: sqlalchemy>=1.4.2 in /usr/local/lib/python3.11/dist-packages (from optuna) (2.0.41)\n",
            "Requirement already satisfied: tqdm in /usr/local/lib/python3.11/dist-packages (from optuna) (4.67.1)\n",
            "Requirement already satisfied: PyYAML in /usr/local/lib/python3.11/dist-packages (from optuna) (6.0.2)\n",
            "Requirement already satisfied: Mako in /usr/lib/python3/dist-packages (from alembic>=1.5.0->optuna) (1.1.3)\n",
            "Requirement already satisfied: typing-extensions>=4.12 in /usr/local/lib/python3.11/dist-packages (from alembic>=1.5.0->optuna) (4.14.0)\n",
            "Requirement already satisfied: greenlet>=1 in /usr/local/lib/python3.11/dist-packages (from sqlalchemy>=1.4.2->optuna) (3.2.2)\n"
          ]
        },
        {
          "output_type": "stream",
          "name": "stderr",
          "text": [
            "[I 2025-06-09 20:39:48,038] A new study created in memory with name: no-name-7f046488-82b2-410c-91bc-ba1acff14d7d\n",
            "<ipython-input-4-582c914f8bf5>:9: FutureWarning: suggest_loguniform has been deprecated in v3.0.0. This feature will be removed in v6.0.0. See https://github.com/optuna/optuna/releases/tag/v3.0.0. Use suggest_float(..., log=True) instead.\n",
            "  'learning_rate': trial.suggest_loguniform('learning_rate', 1e-3, 1e-1),\n",
            "[I 2025-06-09 20:39:54,318] Trial 0 finished with value: 0.7347059662071085 and parameters: {'max_depth': 3, 'learning_rate': 0.016246470234485267, 'n_estimators': 240}. Best is trial 0 with value: 0.7347059662071085.\n",
            "[I 2025-06-09 20:40:00,663] Trial 1 finished with value: 0.5997870216509378 and parameters: {'max_depth': 12, 'learning_rate': 0.0020170083080062354, 'n_estimators': 471}. Best is trial 0 with value: 0.7347059662071085.\n",
            "[I 2025-06-09 20:40:05,207] Trial 2 finished with value: 0.8425897869615445 and parameters: {'max_depth': 11, 'learning_rate': 0.037165687136583664, 'n_estimators': 476}. Best is trial 2 with value: 0.8425897869615445.\n",
            "[I 2025-06-09 20:40:05,852] Trial 3 finished with value: 0.7203533085174205 and parameters: {'max_depth': 3, 'learning_rate': 0.041378794771608704, 'n_estimators': 81}. Best is trial 2 with value: 0.8425897869615445.\n",
            "[I 2025-06-09 20:40:11,406] Trial 4 finished with value: 0.6609856943101889 and parameters: {'max_depth': 7, 'learning_rate': 0.003200569340166738, 'n_estimators': 394}. Best is trial 2 with value: 0.8425897869615445.\n",
            "[I 2025-06-09 20:40:17,123] Trial 5 finished with value: 0.6672828124834617 and parameters: {'max_depth': 11, 'learning_rate': 0.002555164618756299, 'n_estimators': 498}. Best is trial 2 with value: 0.8425897869615445.\n",
            "[I 2025-06-09 20:40:19,068] Trial 6 finished with value: 0.7350132666562819 and parameters: {'max_depth': 4, 'learning_rate': 0.010549542078689089, 'n_estimators': 271}. Best is trial 2 with value: 0.8425897869615445.\n",
            "[I 2025-06-09 20:40:24,270] Trial 7 finished with value: 0.8412542338327411 and parameters: {'max_depth': 7, 'learning_rate': 0.04480790254719835, 'n_estimators': 441}. Best is trial 2 with value: 0.8425897869615445.\n",
            "[I 2025-06-09 20:40:25,890] Trial 8 finished with value: 0.40387569501342496 and parameters: {'max_depth': 7, 'learning_rate': 0.0033294861742058455, 'n_estimators': 138}. Best is trial 2 with value: 0.8425897869615445.\n",
            "[I 2025-06-09 20:40:28,490] Trial 9 finished with value: 0.40838452449537604 and parameters: {'max_depth': 8, 'learning_rate': 0.001997042688904082, 'n_estimators': 233}. Best is trial 2 with value: 0.8425897869615445.\n",
            "[I 2025-06-09 20:40:31,688] Trial 10 finished with value: 0.8446876232944819 and parameters: {'max_depth': 10, 'learning_rate': 0.09426203178092654, 'n_estimators': 349}. Best is trial 10 with value: 0.8446876232944819.\n",
            "[I 2025-06-09 20:40:38,842] Trial 11 finished with value: 0.8440112867765365 and parameters: {'max_depth': 10, 'learning_rate': 0.08695232953942343, 'n_estimators': 351}. Best is trial 10 with value: 0.8446876232944819.\n",
            "[I 2025-06-09 20:40:46,001] Trial 12 finished with value: 0.8448189756508608 and parameters: {'max_depth': 9, 'learning_rate': 0.09265003019251661, 'n_estimators': 333}. Best is trial 12 with value: 0.8448189756508608.\n",
            "[I 2025-06-09 20:40:52,318] Trial 13 finished with value: 0.8441718580386915 and parameters: {'max_depth': 9, 'learning_rate': 0.08401779254261797, 'n_estimators': 322}. Best is trial 12 with value: 0.8448189756508608.\n",
            "[I 2025-06-09 20:40:55,754] Trial 14 finished with value: 0.8299521667562999 and parameters: {'max_depth': 9, 'learning_rate': 0.022787219115405804, 'n_estimators': 337}. Best is trial 12 with value: 0.8448189756508608.\n",
            "[I 2025-06-09 20:40:57,464] Trial 15 finished with value: 0.633439628910679 and parameters: {'max_depth': 5, 'learning_rate': 0.006685892225546351, 'n_estimators': 185}. Best is trial 12 with value: 0.8448189756508608.\n",
            "[I 2025-06-09 20:41:00,962] Trial 16 finished with value: 0.8454629783567796 and parameters: {'max_depth': 9, 'learning_rate': 0.09780654502523854, 'n_estimators': 397}. Best is trial 16 with value: 0.8454629783567796.\n",
            "[I 2025-06-09 20:41:05,952] Trial 17 finished with value: 0.8402360255870596 and parameters: {'max_depth': 6, 'learning_rate': 0.05485451320165513, 'n_estimators': 414}. Best is trial 16 with value: 0.8454629783567796.\n",
            "[I 2025-06-09 20:41:10,459] Trial 18 finished with value: 0.38506074910699434 and parameters: {'max_depth': 9, 'learning_rate': 0.0010848035991530476, 'n_estimators': 392}. Best is trial 16 with value: 0.8454629783567796.\n",
            "[I 2025-06-09 20:41:13,511] Trial 19 finished with value: 0.82532194339503 and parameters: {'max_depth': 8, 'learning_rate': 0.021974298758892362, 'n_estimators': 302}. Best is trial 16 with value: 0.8454629783567796.\n",
            "[I 2025-06-09 20:41:19,080] Trial 20 finished with value: 0.7815228212565362 and parameters: {'max_depth': 10, 'learning_rate': 0.007268032422553708, 'n_estimators': 374}. Best is trial 16 with value: 0.8454629783567796.\n",
            "[I 2025-06-09 20:41:21,636] Trial 21 finished with value: 0.8444261724036265 and parameters: {'max_depth': 10, 'learning_rate': 0.09765130359777606, 'n_estimators': 288}. Best is trial 16 with value: 0.8454629783567796.\n",
            "[I 2025-06-09 20:41:25,617] Trial 22 finished with value: 0.8447670569212802 and parameters: {'max_depth': 12, 'learning_rate': 0.06371001537710405, 'n_estimators': 434}. Best is trial 16 with value: 0.8454629783567796.\n",
            "[I 2025-06-09 20:41:30,010] Trial 23 finished with value: 0.8455608239962598 and parameters: {'max_depth': 11, 'learning_rate': 0.06493547416122813, 'n_estimators': 436}. Best is trial 23 with value: 0.8455608239962598.\n",
            "[I 2025-06-09 20:41:35,008] Trial 24 finished with value: 0.8395488342834068 and parameters: {'max_depth': 11, 'learning_rate': 0.030243645917855805, 'n_estimators': 443}. Best is trial 23 with value: 0.8455608239962598.\n",
            "[I 2025-06-09 20:41:38,313] Trial 25 finished with value: 0.8429105058930144 and parameters: {'max_depth': 9, 'learning_rate': 0.05736610205419492, 'n_estimators': 362}. Best is trial 23 with value: 0.8455608239962598.\n",
            "[I 2025-06-09 20:41:41,979] Trial 26 finished with value: 0.844494728784686 and parameters: {'max_depth': 8, 'learning_rate': 0.06355179313709321, 'n_estimators': 407}. Best is trial 23 with value: 0.8455608239962598.\n",
            "[I 2025-06-09 20:41:46,170] Trial 27 finished with value: 0.8258648009950889 and parameters: {'max_depth': 11, 'learning_rate': 0.02349963093960791, 'n_estimators': 261}. Best is trial 23 with value: 0.8455608239962598.\n",
            "[I 2025-06-09 20:41:49,675] Trial 28 finished with value: 0.8192499412061967 and parameters: {'max_depth': 12, 'learning_rate': 0.015444744022164121, 'n_estimators': 315}. Best is trial 23 with value: 0.8455608239962598.\n",
            "[I 2025-06-09 20:41:51,984] Trial 29 finished with value: 0.8226150935216958 and parameters: {'max_depth': 6, 'learning_rate': 0.031143406293124915, 'n_estimators': 247}. Best is trial 23 with value: 0.8455608239962598.\n",
            "[I 2025-06-09 20:41:55,384] Trial 30 finished with value: 0.8440466383672629 and parameters: {'max_depth': 9, 'learning_rate': 0.07121943818236376, 'n_estimators': 377}. Best is trial 23 with value: 0.8455608239962598.\n",
            "[I 2025-06-09 20:42:00,878] Trial 31 finished with value: 0.8428786646318042 and parameters: {'max_depth': 12, 'learning_rate': 0.047817555743145425, 'n_estimators': 431}. Best is trial 23 with value: 0.8455608239962598.\n",
            "[I 2025-06-09 20:42:05,025] Trial 32 finished with value: 0.8458727203071115 and parameters: {'max_depth': 12, 'learning_rate': 0.06800339421403391, 'n_estimators': 454}. Best is trial 32 with value: 0.8458727203071115.\n",
            "[I 2025-06-09 20:42:09,217] Trial 33 finished with value: 0.8456356588742656 and parameters: {'max_depth': 11, 'learning_rate': 0.07432914228751712, 'n_estimators': 473}. Best is trial 32 with value: 0.8458727203071115.\n",
            "[I 2025-06-09 20:42:15,229] Trial 34 finished with value: 0.8424465357187507 and parameters: {'max_depth': 11, 'learning_rate': 0.0345127535221794, 'n_estimators': 481}. Best is trial 32 with value: 0.8458727203071115.\n",
            "[I 2025-06-09 20:42:19,737] Trial 35 finished with value: 0.8443402565497988 and parameters: {'max_depth': 12, 'learning_rate': 0.04499733361214519, 'n_estimators': 468}. Best is trial 32 with value: 0.8458727203071115.\n",
            "[I 2025-06-09 20:42:24,863] Trial 36 finished with value: 0.8458614842744077 and parameters: {'max_depth': 11, 'learning_rate': 0.06708145729444225, 'n_estimators': 464}. Best is trial 32 with value: 0.8458727203071115.\n",
            "[I 2025-06-09 20:42:30,402] Trial 37 finished with value: 0.8303715000290083 and parameters: {'max_depth': 11, 'learning_rate': 0.015531244124739186, 'n_estimators': 464}. Best is trial 32 with value: 0.8458727203071115.\n",
            "[I 2025-06-09 20:42:34,814] Trial 38 finished with value: 0.8455085023452069 and parameters: {'max_depth': 12, 'learning_rate': 0.0718474572539174, 'n_estimators': 494}. Best is trial 32 with value: 0.8458727203071115.\n",
            "[I 2025-06-09 20:42:40,429] Trial 39 finished with value: 0.8425894953423878 and parameters: {'max_depth': 11, 'learning_rate': 0.03828098160658022, 'n_estimators': 452}. Best is trial 32 with value: 0.8458727203071115.\n",
            "[I 2025-06-09 20:42:45,816] Trial 40 finished with value: 0.822891905168181 and parameters: {'max_depth': 10, 'learning_rate': 0.011258877584737922, 'n_estimators': 495}. Best is trial 32 with value: 0.8458727203071115.\n",
            "[I 2025-06-09 20:42:50,438] Trial 41 finished with value: 0.8457782012863241 and parameters: {'max_depth': 12, 'learning_rate': 0.07018759300727832, 'n_estimators': 500}. Best is trial 32 with value: 0.8458727203071115.\n",
            "[I 2025-06-09 20:42:55,641] Trial 42 finished with value: 0.8446971884264552 and parameters: {'max_depth': 12, 'learning_rate': 0.05222111409843209, 'n_estimators': 470}. Best is trial 32 with value: 0.8458727203071115.\n",
            "[I 2025-06-09 20:42:56,585] Trial 43 finished with value: 0.8177033145323971 and parameters: {'max_depth': 12, 'learning_rate': 0.07126249949940741, 'n_estimators': 66}. Best is trial 32 with value: 0.8458727203071115.\n",
            "[I 2025-06-09 20:43:00,903] Trial 44 finished with value: 0.8375964064343083 and parameters: {'max_depth': 11, 'learning_rate': 0.027188675635887286, 'n_estimators': 419}. Best is trial 32 with value: 0.8458727203071115.\n",
            "[I 2025-06-09 20:43:06,856] Trial 45 finished with value: 0.8431619515253473 and parameters: {'max_depth': 10, 'learning_rate': 0.04055814361531761, 'n_estimators': 500}. Best is trial 32 with value: 0.8458727203071115.\n",
            "[I 2025-06-09 20:43:08,918] Trial 46 finished with value: 0.8249543071825972 and parameters: {'max_depth': 3, 'learning_rate': 0.07878836794366956, 'n_estimators': 453}. Best is trial 32 with value: 0.8458727203071115.\n",
            "[I 2025-06-09 20:43:13,197] Trial 47 finished with value: 0.8445009223823317 and parameters: {'max_depth': 11, 'learning_rate': 0.05457209574636207, 'n_estimators': 478}. Best is trial 32 with value: 0.8458727203071115.\n",
            "[I 2025-06-09 20:43:17,606] Trial 48 finished with value: 0.8427728809375823 and parameters: {'max_depth': 11, 'learning_rate': 0.04415737943423764, 'n_estimators': 424}. Best is trial 32 with value: 0.8458727203071115.\n",
            "[I 2025-06-09 20:43:20,479] Trial 49 finished with value: 0.8359057849869679 and parameters: {'max_depth': 12, 'learning_rate': 0.07836362830992351, 'n_estimators': 135}. Best is trial 32 with value: 0.8458727203071115.\n"
          ]
        },
        {
          "output_type": "stream",
          "name": "stdout",
          "text": [
            "Best params: {'max_depth': 12, 'learning_rate': 0.06800339421403391, 'n_estimators': 454}\n",
            "Best CV R2: 0.846\n"
          ]
        }
      ],
      "source": [
        "!pip install optuna\n",
        "import optuna\n",
        "from lightgbm import LGBMRegressor\n",
        "from sklearn.model_selection import cross_val_score\n",
        "\n",
        "def objective(trial):\n",
        "    params = {\n",
        "        'max_depth': trial.suggest_int('max_depth', 3, 12),\n",
        "        'learning_rate': trial.suggest_loguniform('learning_rate', 1e-3, 1e-1),\n",
        "        'n_estimators': trial.suggest_int('n_estimators', 50, 500)\n",
        "    }\n",
        "    model = LGBMRegressor(random_state=42, **params)\n",
        "    return cross_val_score(model, X_train_scaled, y_train, cv=5, scoring='r2', n_jobs=-1).mean()\n",
        "\n",
        "study = optuna.create_study(direction='maximize')\n",
        "study.optimize(objective, n_trials=50)\n",
        "\n",
        "print('Best params:', study.best_params)\n",
        "print(f'Best CV R2: {study.best_value:.3f}')"
      ]
    },
    {
      "cell_type": "markdown",
      "id": "b36ab6d4",
      "metadata": {
        "id": "b36ab6d4"
      },
      "source": [
        "## Задание 17 (Optuna + Pruner)\n",
        "**[код + ответ 2]** Используйте `Optuna` с `pruner`, чтобы ускорить подбор гиперпараметров для `CatBoostRegressor`. Используйте `SuccessiveHalvingPruner` или `MedianPruner`. Покажите, как уменьшается число итераций без потери качества."
      ]
    },
    {
      "cell_type": "code",
      "execution_count": null,
      "id": "eb8cde52",
      "metadata": {
        "id": "eb8cde52",
        "colab": {
          "base_uri": "https://localhost:8080/"
        },
        "outputId": "7413a7d3-edfc-43ec-f941-6d72c9bfe2be"
      },
      "outputs": [
        {
          "output_type": "stream",
          "name": "stdout",
          "text": [
            "Collecting catboost\n",
            "  Downloading catboost-1.2.8-cp311-cp311-manylinux2014_x86_64.whl.metadata (1.2 kB)\n",
            "Requirement already satisfied: graphviz in /usr/local/lib/python3.11/dist-packages (from catboost) (0.20.3)\n",
            "Requirement already satisfied: matplotlib in /usr/local/lib/python3.11/dist-packages (from catboost) (3.10.0)\n",
            "Requirement already satisfied: numpy<3.0,>=1.16.0 in /usr/local/lib/python3.11/dist-packages (from catboost) (2.0.2)\n",
            "Requirement already satisfied: pandas>=0.24 in /usr/local/lib/python3.11/dist-packages (from catboost) (2.2.2)\n",
            "Requirement already satisfied: scipy in /usr/local/lib/python3.11/dist-packages (from catboost) (1.15.3)\n",
            "Requirement already satisfied: plotly in /usr/local/lib/python3.11/dist-packages (from catboost) (5.24.1)\n",
            "Requirement already satisfied: six in /usr/local/lib/python3.11/dist-packages (from catboost) (1.17.0)\n",
            "Requirement already satisfied: python-dateutil>=2.8.2 in /usr/local/lib/python3.11/dist-packages (from pandas>=0.24->catboost) (2.9.0.post0)\n",
            "Requirement already satisfied: pytz>=2020.1 in /usr/local/lib/python3.11/dist-packages (from pandas>=0.24->catboost) (2025.2)\n",
            "Requirement already satisfied: tzdata>=2022.7 in /usr/local/lib/python3.11/dist-packages (from pandas>=0.24->catboost) (2025.2)\n",
            "Requirement already satisfied: contourpy>=1.0.1 in /usr/local/lib/python3.11/dist-packages (from matplotlib->catboost) (1.3.2)\n",
            "Requirement already satisfied: cycler>=0.10 in /usr/local/lib/python3.11/dist-packages (from matplotlib->catboost) (0.12.1)\n",
            "Requirement already satisfied: fonttools>=4.22.0 in /usr/local/lib/python3.11/dist-packages (from matplotlib->catboost) (4.58.1)\n",
            "Requirement already satisfied: kiwisolver>=1.3.1 in /usr/local/lib/python3.11/dist-packages (from matplotlib->catboost) (1.4.8)\n",
            "Requirement already satisfied: packaging>=20.0 in /usr/local/lib/python3.11/dist-packages (from matplotlib->catboost) (24.2)\n",
            "Requirement already satisfied: pillow>=8 in /usr/local/lib/python3.11/dist-packages (from matplotlib->catboost) (11.2.1)\n",
            "Requirement already satisfied: pyparsing>=2.3.1 in /usr/local/lib/python3.11/dist-packages (from matplotlib->catboost) (3.2.3)\n",
            "Requirement already satisfied: tenacity>=6.2.0 in /usr/local/lib/python3.11/dist-packages (from plotly->catboost) (9.1.2)\n",
            "Downloading catboost-1.2.8-cp311-cp311-manylinux2014_x86_64.whl (99.2 MB)\n",
            "\u001b[2K   \u001b[90m━━━━━━━━━━━━━━━━━━━━━━━━━━━━━━━━━━━━━━━━\u001b[0m \u001b[32m99.2/99.2 MB\u001b[0m \u001b[31m6.5 MB/s\u001b[0m eta \u001b[36m0:00:00\u001b[0m\n",
            "\u001b[?25hInstalling collected packages: catboost\n",
            "Successfully installed catboost-1.2.8\n"
          ]
        },
        {
          "output_type": "stream",
          "name": "stderr",
          "text": [
            "[I 2025-06-09 20:44:40,206] A new study created in memory with name: no-name-7b41e9ff-6345-4d54-9a42-e27dc931a17d\n",
            "<ipython-input-6-d3b664857867>:10: FutureWarning: suggest_loguniform has been deprecated in v3.0.0. This feature will be removed in v6.0.0. See https://github.com/optuna/optuna/releases/tag/v3.0.0. Use suggest_float(..., log=True) instead.\n",
            "  'learning_rate': trial.suggest_loguniform('learning_rate', 1e-3, 0.3),\n",
            "<ipython-input-6-d3b664857867>:11: FutureWarning: suggest_loguniform has been deprecated in v3.0.0. This feature will be removed in v6.0.0. See https://github.com/optuna/optuna/releases/tag/v3.0.0. Use suggest_float(..., log=True) instead.\n",
            "  'l2_leaf_reg': trial.suggest_loguniform('l2_leaf_reg', 1e-3, 10),\n",
            "[I 2025-06-09 20:45:47,094] Trial 0 finished with value: 0.8475700222035822 and parameters: {'depth': 8, 'learning_rate': 0.03432236179110206, 'l2_leaf_reg': 0.001095007537783627}. Best is trial 0 with value: 0.8475700222035822.\n"
          ]
        }
      ],
      "source": [
        "!pip install catboost\n",
        "import optuna\n",
        "from catboost import CatBoostRegressor\n",
        "from sklearn.model_selection import cross_val_score\n",
        "from optuna.pruners import SuccessiveHalvingPruner\n",
        "\n",
        "def objective(trial):\n",
        "    params = {\n",
        "        'depth': trial.suggest_int('depth', 4, 10),\n",
        "        'learning_rate': trial.suggest_loguniform('learning_rate', 1e-3, 0.3),\n",
        "        'l2_leaf_reg': trial.suggest_loguniform('l2_leaf_reg', 1e-3, 10),\n",
        "    }\n",
        "    model = CatBoostRegressor(\n",
        "        random_state=42,\n",
        "        verbose=0,\n",
        "        **params\n",
        "    )\n",
        "    return cross_val_score(model, X_train_scaled, y_train, cv=5, scoring='r2', n_jobs=-1).mean()\n",
        "\n",
        "study = optuna.create_study(\n",
        "    direction='maximize',\n",
        "    pruner=SuccessiveHalvingPruner()\n",
        ")\n",
        "study.optimize(objective, n_trials=50)\n",
        "\n",
        "print('Best params:', study.best_params)\n",
        "print(f'Best CV R2: {study.best_value:.3f}')\n",
        "\n",
        "pruned = len([t for t in study.trials if t.state == optuna.trial.TrialState.PRUNED])\n",
        "complete = len([t for t in study.trials if t.state == optuna.trial.TrialState.COMPLETE])\n",
        "\n",
        "print(f'Completed trials: {complete}')\n",
        "print(f'Pruned trials: {pruned}')"
      ]
    },
    {
      "cell_type": "markdown",
      "id": "2e148bb7",
      "metadata": {
        "id": "2e148bb7"
      },
      "source": [
        "### Ваш ответ:\n",
        "..."
      ]
    }
  ],
  "metadata": {
    "kernelspec": {
      "display_name": "Python 3 (ipykernel)",
      "language": "python",
      "name": "python3"
    },
    "language_info": {
      "codemirror_mode": {
        "name": "ipython",
        "version": 3
      },
      "file_extension": ".py",
      "mimetype": "text/x-python",
      "name": "python",
      "nbconvert_exporter": "python",
      "pygments_lexer": "ipython3",
      "version": "3.13.2"
    },
    "colab": {
      "provenance": []
    }
  },
  "nbformat": 4,
  "nbformat_minor": 5
}